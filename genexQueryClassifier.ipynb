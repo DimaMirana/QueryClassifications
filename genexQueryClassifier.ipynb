{
  "nbformat": 4,
  "nbformat_minor": 0,
  "metadata": {
    "colab": {
      "name": "genexQueryClassifier.ipynb",
      "provenance": [],
      "toc_visible": true,
      "authorship_tag": "ABX9TyNWO7eevNJtWo1OPZAo81RA",
      "include_colab_link": true
    },
    "kernelspec": {
      "name": "python3",
      "display_name": "Python 3"
    }
  },
  "cells": [
    {
      "cell_type": "markdown",
      "metadata": {
        "id": "view-in-github",
        "colab_type": "text"
      },
      "source": [
        "<a href=\"https://colab.research.google.com/github/DimaMirana/QueryClassifications/blob/master/genexQueryClassifier.ipynb\" target=\"_parent\"><img src=\"https://colab.research.google.com/assets/colab-badge.svg\" alt=\"Open In Colab\"/></a>"
      ]
    },
    {
      "cell_type": "markdown",
      "metadata": {
        "id": "WHPSihTkNNpl"
      },
      "source": [
        "# Importing Libraries"
      ]
    },
    {
      "cell_type": "code",
      "metadata": {
        "id": "JWSshETFNRUd"
      },
      "source": [
        "# Importing the libraries\n",
        "import numpy as np\n",
        "import matplotlib.pyplot as plt\n",
        "import pandas as pd\n",
        "import seaborn as sns\n",
        "import pickle\n",
        "from sklearn.metrics import confusion_matrix\n",
        "from sklearn.feature_extraction.text import CountVectorizer\n",
        "from sklearn.model_selection import train_test_split \n",
        "from sklearn.naive_bayes import GaussianNB\n",
        "from sklearn.neighbors import KNeighborsClassifier \n",
        "from sklearn.ensemble import RandomForestClassifier\n",
        "from sklearn.svm import SVC\n",
        "from sklearn.tree import DecisionTreeClassifier\n",
        "from sklearn.metrics import accuracy_score\n",
        "from sklearn.model_selection import cross_val_score\n",
        "from sklearn.linear_model import LogisticRegression\n",
        "from xgboost import XGBClassifier "
      ],
      "execution_count": null,
      "outputs": []
    },
    {
      "cell_type": "markdown",
      "metadata": {
        "id": "WBi8Jvu_N-5H"
      },
      "source": [
        "# Import CSV files"
      ]
    },
    {
      "cell_type": "code",
      "metadata": {
        "id": "C6ICJEr0N99C"
      },
      "source": [
        "# Settings of df\n",
        "pd.set_option('display.max_colwidth', None)\n",
        "col_Names=[\"sentence\", \"label\"] #adding header"
      ],
      "execution_count": null,
      "outputs": []
    },
    {
      "cell_type": "code",
      "metadata": {
        "id": "Vpk6uAszOLrh"
      },
      "source": [
        "df1 = pd.read_csv('englishTexts.csv', encoding = \"UTF-8\",sep=',',header=None,names=col_Names,engine='python')\n",
        "df2 = pd.read_csv('banglaTexts.csv', encoding = \"UTF-8\",sep=',',header=None,names=col_Names,engine='python')"
      ],
      "execution_count": null,
      "outputs": []
    },
    {
      "cell_type": "code",
      "metadata": {
        "id": "Sh9iVLmYOTsC",
        "outputId": "19fce146-eed3-4636-b871-32f4e07e8f4f",
        "colab": {
          "base_uri": "https://localhost:8080/",
          "height": 35
        }
      },
      "source": [
        "df1.shape,df2.shape"
      ],
      "execution_count": null,
      "outputs": [
        {
          "output_type": "execute_result",
          "data": {
            "text/plain": [
              "((1950, 2), (3892, 2))"
            ]
          },
          "metadata": {
            "tags": []
          },
          "execution_count": 258
        }
      ]
    },
    {
      "cell_type": "code",
      "metadata": {
        "id": "F31PRgWAOXbx",
        "outputId": "7f51bfcc-5ce7-405c-e38d-f377f60faae5",
        "colab": {
          "base_uri": "https://localhost:8080/",
          "height": 417
        }
      },
      "source": [
        "df1.head(10),df2.head(10)"
      ],
      "execution_count": null,
      "outputs": [
        {
          "output_type": "execute_result",
          "data": {
            "text/plain": [
              "(                                                                      sentence  label\n",
              " 0  credit card nite chaile koto income kora lagbe shei shomporke jante chacchi      2\n",
              " 1                   what are the ways of rechaging my phone from  bank account      5\n",
              " 2        ami 35 hajar taka proti mashe income korle ki amake credit card dibe?      2\n",
              " 3                                                              how do I top up      5\n",
              " 4                        amar credit card er pichone kto khoroch hobe bochore?      1\n",
              " 5                             dear sir what is the credit card interest charge      4\n",
              " 6                                 How much is the yearly bill for credit card?      1\n",
              " 7                      credit card nite monthly income koto lage ei info lagbe      2\n",
              " 8            proti mashe koto taka pele credit card nite parbo shei info lagbe      2\n",
              " 9                                 amar credit card ase ekta, kto katbe year e?      1,\n",
              "                                                          sentence  label\n",
              " 0              স্যার ক্রডিট কার্ডে সুদ হার কত আপনাদের জানান প্লিজ      4\n",
              " 1        ব্র্যাকের ক্রেদিত কার্ড নিতে চাইলে কোন কাগজপত্র জমা দিব?      6\n",
              " 2                 ব্র্যাকের ক্রেডিট  কার্ডে বিলের ব্যাপারটা বলেন।      1\n",
              " 3                      ক্রেডিট কার্ড নিতে চাই, মাসিক সুদের হার কত      4\n",
              " 4                               হাই, মাসিক সুদ কত ক্রেডিট কার্ডের      4\n",
              " 5             যদি আপনাদের ক্রেডিট কার্ড নেই কোন কাগজপত্র জমা নেন?      6\n",
              " 6                       credit card এর  charge এর info  দিন প্লিজ      1\n",
              " 7       আমার ইনকাম যদি এর চেয়ে কম হয় তাহলে কি ক্রেডিট কার্ড দিবে?      2\n",
              " 8  আমি কি কি ফ্যাসিলিটি পাবো ব্র্যাক ব্যাংকের ক্রেডিট কার্ড নিলে?      3\n",
              " 9     দাদা মাসিক ইন্টারেস্ট রেট কতো আপনাদের জানান ক্রেডিট কার্ডের      4)"
            ]
          },
          "metadata": {
            "tags": []
          },
          "execution_count": 259
        }
      ]
    },
    {
      "cell_type": "markdown",
      "metadata": {
        "id": "vxzpPwqrOkeo"
      },
      "source": [
        "# Visualizing the Data"
      ]
    },
    {
      "cell_type": "code",
      "metadata": {
        "id": "z3wF2AQ9OcEv",
        "outputId": "6f7ca779-6528-4d17-f2b8-e75addbe199a",
        "colab": {
          "base_uri": "https://localhost:8080/",
          "height": 335
        }
      },
      "source": [
        "sns.countplot(df1['label']);"
      ],
      "execution_count": null,
      "outputs": [
        {
          "output_type": "stream",
          "text": [
            "/usr/local/lib/python3.6/dist-packages/seaborn/_decorators.py:43: FutureWarning: Pass the following variable as a keyword arg: x. From version 0.12, the only valid positional argument will be `data`, and passing other arguments without an explicit keyword will result in an error or misinterpretation.\n",
            "  FutureWarning\n"
          ],
          "name": "stderr"
        },
        {
          "output_type": "display_data",
          "data": {
            "image/png": "[encoded data removed]",
            "text/plain": [
              "<Figure size 432x288 with 1 Axes>"
            ]
          },
          "metadata": {
            "tags": [],
            "needs_background": "light"
          }
        }
      ]
    },
    {
      "cell_type": "code",
      "metadata": {
        "id": "zUTu_hCNOsmg",
        "outputId": "8ddf06dd-bf24-4358-b17e-dab8039dac90",
        "colab": {
          "base_uri": "https://localhost:8080/",
          "height": 335
        }
      },
      "source": [
        "sns.countplot(df2['label']);"
      ],
      "execution_count": null,
      "outputs": [
        {
          "output_type": "stream",
          "text": [
            "/usr/local/lib/python3.6/dist-packages/seaborn/_decorators.py:43: FutureWarning: Pass the following variable as a keyword arg: x. From version 0.12, the only valid positional argument will be `data`, and passing other arguments without an explicit keyword will result in an error or misinterpretation.\n",
            "  FutureWarning\n"
          ],
          "name": "stderr"
        },
        {
          "output_type": "display_data",
          "data": {
            "image/png": "[encoded data removed]",
            "text/plain": [
              "<Figure size 432x288 with 1 Axes>"
            ]
          },
          "metadata": {
            "tags": [],
            "needs_background": "light"
          }
        }
      ]
    },
    {
      "cell_type": "markdown",
      "metadata": {
        "id": "CfP8gF4VO4Mo"
      },
      "source": [
        "# Importing Text Cleaning Library"
      ]
    },
    {
      "cell_type": "code",
      "metadata": {
        "id": "MsRXLMWePTaa"
      },
      "source": [
        "!pip install stopwordsiso"
      ],
      "execution_count": null,
      "outputs": []
    },
    {
      "cell_type": "code",
      "metadata": {
        "id": "kCzICyzPPXtQ"
      },
      "source": [
        "!pip install bnltk"
      ],
      "execution_count": null,
      "outputs": []
    },
    {
      "cell_type": "code",
      "metadata": {
        "id": "Mtf_sA43Owsc",
        "outputId": "37757cc9-2b9f-4bab-c89c-a105a24b1e3c",
        "colab": {
          "base_uri": "https://localhost:8080/",
          "height": 54
        }
      },
      "source": [
        "# Cleaning the text libraries\n",
        "import re \n",
        "import nltk \n",
        "nltk.download('stopwords') \n",
        "from nltk.corpus import stopwords \n",
        "from nltk.stem.porter import PorterStemmer \n",
        "from nltk.corpus.reader import CategorizedPlaintextCorpusReader\n",
        "from stopwordsiso import stopwords as stopwordsBangla\n",
        "from bnltk.stemmer import BanglaStemmer  "
      ],
      "execution_count": null,
      "outputs": [
        {
          "output_type": "stream",
          "text": [
            "[nltk_data] Downloading package stopwords to /root/nltk_data...\n",
            "[nltk_data]   Package stopwords is already up-to-date!\n"
          ],
          "name": "stdout"
        }
      ]
    },
    {
      "cell_type": "markdown",
      "metadata": {
        "id": "LuvUYx_1QER7"
      },
      "source": [
        "# Making Corpus"
      ]
    },
    {
      "cell_type": "code",
      "metadata": {
        "id": "xMUWLcAiPim7"
      },
      "source": [
        "def corpusArray(textType):\n",
        "  corpus = []\n",
        "  if(textType == 'en'):\n",
        "    for i in range(0,1950):\n",
        "      sen = re.sub('[^a-zA-Z]',' ' , df1['sentence'][i]) \n",
        "      sen = sen.lower() \n",
        "      sen = sen.split()\n",
        "      ps = PorterStemmer()\n",
        "      sen = [ps.stem(word) for word in sen if not word in set(stopwords.words('english'))]\n",
        "      sen = ' '.join(sen) #list to string\n",
        "      corpus.append(sen)\n",
        "  else:\n",
        "    for i in range(0,3892):\n",
        "      sen = re.sub(\"[^\\u0980-\\u09FF']+\",' ' , df2['sentence'][i]) \n",
        "      sen = sen.split()\n",
        "      psBan =BanglaStemmer()\n",
        "      sen = [psBan.stem(word) for word in sen if not word in set(stopwordsBangla('bn'))]\n",
        "      sen = ' '.join(sen)\n",
        "      corpus.append(sen)\n",
        "  return corpus"
      ],
      "execution_count": null,
      "outputs": []
    },
    {
      "cell_type": "code",
      "metadata": {
        "id": "1jId2Yw0RQjt"
      },
      "source": [
        "corpusBangla = corpusArray('bn')\n",
        "corpusEnglish = corpusArray('en')"
      ],
      "execution_count": null,
      "outputs": []
    },
    {
      "cell_type": "code",
      "metadata": {
        "id": "Gi8aF0TORhl9",
        "outputId": "68b35158-4861-44f0-e3be-b07af2ca84d4",
        "colab": {
          "base_uri": "https://localhost:8080/",
          "height": 381
        }
      },
      "source": [
        "corpusBangla[0:10],corpusEnglish[0:10]"
      ],
      "execution_count": null,
      "outputs": [
        {
          "output_type": "execute_result",
          "data": {
            "text/plain": [
              "(['স্য ক্রডিট কার্ড সুদ হ আপনা জানান প্লিজ',\n",
              "  'ব্র্যাক ক্রেদিত কার্ড চাইল কাগজপত্র জমা দিব',\n",
              "  'ব্র্যাক ক্রেডিট কার্ড বিল ব্যাপার',\n",
              "  'ক্রেডিট কার্ড চা মাসিক সু হ',\n",
              "  'হা মাসিক সুদ ক্রেডিট কার্ড',\n",
              "  'আপনা ক্রেডিট কার্ড কাগজপত্র জমা ন',\n",
              "  'প্লিজ',\n",
              "  'ইনকাম চা কম ক্রেডিট কার্ড দিব',\n",
              "  'ফ্যাসিলি পাবো ব্র্যাক ব্যাংক ক্রেডিট কার্ড নিল',\n",
              "  'দাদা মাসিক ইন্টারেস্ট রেট ক আপনা জানান ক্রেডিট কার্ড'],\n",
              " ['credit card nite chail koto incom kora lagb shei shompork jant chacchi',\n",
              "  'way rechag phone bank account',\n",
              "  'ami hajar taka proti mash incom korl ki amak credit card dibe',\n",
              "  'top',\n",
              "  'amar credit card er pichon kto khoroch hobe bochor',\n",
              "  'dear sir credit card interest charg',\n",
              "  'much yearli bill credit card',\n",
              "  'credit card nite monthli incom koto lage ei info lagb',\n",
              "  'proti mash koto taka pele credit card nite parbo shei info lagb',\n",
              "  'amar credit card ase ekta kto katb year e'])"
            ]
          },
          "metadata": {
            "tags": []
          },
          "execution_count": 319
        }
      ]
    },
    {
      "cell_type": "markdown",
      "metadata": {
        "id": "5vAhCjovTcIp"
      },
      "source": [
        "# Make Bag of Words and export corresponding countingVectorizer"
      ]
    },
    {
      "cell_type": "code",
      "metadata": {
        "id": "hlQLkeqJTMb6"
      },
      "source": [
        "def bag_of_words(textType):\n",
        "  if(textType == 'en'):\n",
        "    cv1 = CountVectorizer(max_features = 5100)\n",
        "    X = cv1.fit_transform(corpusEnglish).toarray()\n",
        "    y = df1.iloc[:,1].values\n",
        "    cv = cv1\n",
        "    pickle.dump(cv1, open(\"vectorEng.pickel\", \"wb\"))\n",
        "  else:\n",
        "    cv2 = CountVectorizer(max_features = 5100)\n",
        "    X = cv2.fit_transform(corpusBangla).toarray()\n",
        "    y = df2.iloc[:,1].values\n",
        "    cv = cv2\n",
        "    pickle.dump(cv2, open(\"vectorBan.pickel\", \"wb\"))\n",
        "  return X,y,cv"
      ],
      "execution_count": null,
      "outputs": []
    },
    {
      "cell_type": "code",
      "metadata": {
        "id": "TZtyNUbGUvl6"
      },
      "source": [
        "X_eng,y_eng,cvEng = bag_of_words('en')\n",
        "X_ban,y_ban,cvBan = bag_of_words('bn')"
      ],
      "execution_count": null,
      "outputs": []
    },
    {
      "cell_type": "code",
      "metadata": {
        "id": "lvx8iLTUVBRe",
        "outputId": "f169da89-9e28-49a8-c5f2-86ef7980a140",
        "colab": {
          "base_uri": "https://localhost:8080/",
          "height": 35
        }
      },
      "source": [
        "X_eng.shape,X_ban.shape"
      ],
      "execution_count": null,
      "outputs": [
        {
          "output_type": "execute_result",
          "data": {
            "text/plain": [
              "((1950, 618), (3892, 190))"
            ]
          },
          "metadata": {
            "tags": []
          },
          "execution_count": 325
        }
      ]
    },
    {
      "cell_type": "markdown",
      "metadata": {
        "id": "eeEkzxkvVXdC"
      },
      "source": [
        "# Train Test Split"
      ]
    },
    {
      "cell_type": "code",
      "metadata": {
        "id": "ZYi2iyewVGpf"
      },
      "source": [
        "X_train_eng, X_test_eng, y_train_eng, y_test_eng = train_test_split(X_eng, y_eng, test_size = 0.20, random_state = 0)\n",
        "X_train_ban, X_test_ban, y_train_ban, y_test_ban = train_test_split(X_ban, y_ban, test_size = 0.20, random_state = 0)"
      ],
      "execution_count": null,
      "outputs": []
    },
    {
      "cell_type": "markdown",
      "metadata": {
        "id": "Z864IrM9WS1c"
      },
      "source": [
        "# ML Models list and checking functions"
      ]
    },
    {
      "cell_type": "code",
      "metadata": {
        "id": "Gg0eCwgjVxkv"
      },
      "source": [
        "models = [\n",
        "          GaussianNB(),\n",
        "          KNeighborsClassifier(n_neighbors = 3,metric ='minkowski', p=2),\n",
        "          RandomForestClassifier(n_estimators = 10,criterion = 'entropy', random_state = 0),\n",
        "          SVC(kernel = 'rbf',random_state=0),\n",
        "          DecisionTreeClassifier(criterion = 'entropy',random_state = 0),\n",
        "          XGBClassifier(),\n",
        "          LogisticRegression(random_state=0)\n",
        "]\n",
        "CV = 8"
      ],
      "execution_count": null,
      "outputs": []
    },
    {
      "cell_type": "code",
      "metadata": {
        "id": "a65g-7B2nPsE"
      },
      "source": [
        "def checkingModels(X,y):\n",
        "  cv_df = pd.DataFrame(index=range(CV * len(models)))\n",
        "  entries = []\n",
        "  for model in models:\n",
        "    model_name = model.__class__.__name__\n",
        "    accuracies = cross_val_score(model, X, y, scoring='accuracy', cv=CV)\n",
        "    for fold_idx, accuracy in enumerate(accuracies):\n",
        "      entries.append((model_name, fold_idx, accuracy))\n",
        "  cv_df = pd.DataFrame(entries, columns=['model_name', 'fold_idx', 'accuracy'])\n",
        "  return cv_df\n",
        "\n"
      ],
      "execution_count": null,
      "outputs": []
    },
    {
      "cell_type": "markdown",
      "metadata": {
        "id": "8HSXq35bsx5N"
      },
      "source": [
        "# plotting various ml models accuracy on bloxplot"
      ]
    },
    {
      "cell_type": "code",
      "metadata": {
        "id": "nkcYy_ceswYG"
      },
      "source": [
        "def ploting_accuracy(cv_df):\n",
        "  plt.figure(figsize=(20,5))\n",
        "  sns.boxplot(x='model_name', y='accuracy', data=cv_df)\n",
        "  sns.stripplot(x='model_name', y='accuracy', data=cv_df, \n",
        "                size=8, jitter=True, edgecolor=\"gray\", linewidth=2)\n",
        "  plt.show()"
      ],
      "execution_count": null,
      "outputs": []
    },
    {
      "cell_type": "markdown",
      "metadata": {
        "id": "meGRwtdGtjMX"
      },
      "source": [
        "# testing  ml models on validation data"
      ]
    },
    {
      "cell_type": "code",
      "metadata": {
        "id": "9Ur8btP4tw7G"
      },
      "source": [
        "cv_df_eng = checkingModels(X_test_eng,y_test_eng)\n",
        "cv_df_ban = checkingModels(X_test_ban,y_test_ban)"
      ],
      "execution_count": null,
      "outputs": []
    },
    {
      "cell_type": "markdown",
      "metadata": {
        "id": "xVu4eY5xvG7u"
      },
      "source": [
        "# plotting data for better visualization"
      ]
    },
    {
      "cell_type": "code",
      "metadata": {
        "id": "qeGQ3ZyVuI79",
        "outputId": "cfd6f4b9-8612-4f1d-c71a-d762c0d8e35c",
        "colab": {
          "base_uri": "https://localhost:8080/",
          "height": 335
        }
      },
      "source": [
        "ploting_accuracy(cv_df_eng)"
      ],
      "execution_count": null,
      "outputs": [
        {
          "output_type": "display_data",
          "data": {
            "image/png": "[encoded data removed]",
            "text/plain": [
              "<Figure size 1440x360 with 1 Axes>"
            ]
          },
          "metadata": {
            "tags": [],
            "needs_background": "light"
          }
        }
      ]
    },
    {
      "cell_type": "code",
      "metadata": {
        "id": "AfyfdNHoup1s",
        "outputId": "2578f863-abfb-427f-b701-8240a0e86c9a",
        "colab": {
          "base_uri": "https://localhost:8080/",
          "height": 335
        }
      },
      "source": [
        "ploting_accuracy(cv_df_ban)"
      ],
      "execution_count": null,
      "outputs": [
        {
          "output_type": "display_data",
          "data": {
            "image/png": "[encoded data removed]",
            "text/plain": [
              "<Figure size 1440x360 with 1 Axes>"
            ]
          },
          "metadata": {
            "tags": [],
            "needs_background": "light"
          }
        }
      ]
    },
    {
      "cell_type": "markdown",
      "metadata": {
        "id": "TDXVH6gyvn7w"
      },
      "source": [
        "# Summary of models"
      ]
    },
    {
      "cell_type": "code",
      "metadata": {
        "id": "p8xYgHYboRg1",
        "outputId": "d70cdc88-298a-476b-fd00-f19909d624bf",
        "colab": {
          "base_uri": "https://localhost:8080/",
          "height": 181
        }
      },
      "source": [
        "cv_df_eng.groupby('model_name').accuracy.mean()"
      ],
      "execution_count": null,
      "outputs": [
        {
          "output_type": "execute_result",
          "data": {
            "text/plain": [
              "model_name\n",
              "DecisionTreeClassifier    0.882068\n",
              "GaussianNB                0.958918\n",
              "KNeighborsClassifier      0.894877\n",
              "LogisticRegression        0.951318\n",
              "RandomForestClassifier    0.917889\n",
              "SVC                       0.946110\n",
              "XGBClassifier             0.935959\n",
              "Name: accuracy, dtype: float64"
            ]
          },
          "metadata": {
            "tags": []
          },
          "execution_count": 278
        }
      ]
    },
    {
      "cell_type": "code",
      "metadata": {
        "id": "AF8BNy7_ozDL",
        "outputId": "296aee23-0e47-4b0c-e283-bbc5e7b03fc2",
        "colab": {
          "base_uri": "https://localhost:8080/",
          "height": 181
        }
      },
      "source": [
        "cv_df_ban.groupby('model_name').accuracy.mean()"
      ],
      "execution_count": null,
      "outputs": [
        {
          "output_type": "execute_result",
          "data": {
            "text/plain": [
              "model_name\n",
              "DecisionTreeClassifier    0.703582\n",
              "GaussianNB                0.724082\n",
              "KNeighborsClassifier      0.630418\n",
              "LogisticRegression        0.731893\n",
              "RandomForestClassifier    0.716442\n",
              "SVC                       0.737008\n",
              "XGBClassifier             0.701018\n",
              "Name: accuracy, dtype: float64"
            ]
          },
          "metadata": {
            "tags": []
          },
          "execution_count": 280
        }
      ]
    },
    {
      "cell_type": "markdown",
      "metadata": {
        "id": "5T1IEQBnwbmL"
      },
      "source": [
        "# take the best model from the summary and test if it's overfitting or not"
      ]
    },
    {
      "cell_type": "code",
      "metadata": {
        "id": "yEmPqiNFDTfZ"
      },
      "source": [
        "class modelStat:\n",
        "    def __init__(self, name, train,test):  \n",
        "        self.name = name  \n",
        "        self.train = train\n",
        "        self.test = test"
      ],
      "execution_count": null,
      "outputs": []
    },
    {
      "cell_type": "code",
      "metadata": {
        "id": "hMtUawZgu51F"
      },
      "source": [
        "#models = GaussianNB, LogisticRegression, SVC\n",
        "number = [0,3,6]\n",
        "length = len(number)\n",
        "model_names = []\n",
        "def checking_overfitting(X_train,y_train,X_test,y_test):\n",
        "  for i in range(length):\n",
        "    classifier = models[int(number[i])].fit(X_train,y_train)\n",
        "    y_predTrain = classifier.predict(X_train)\n",
        "    y_predTest = classifier.predict(X_test)\n",
        "    # print('models = ',str(models[int(number[i])]).split('(')[0])\n",
        "    # print('trainingAccuracy = ',accuracy_score(y_train, y_predTrain))\n",
        "    # print('testAccuracy = ',accuracy_score(y_test, y_predTest))\n",
        "    model_names.append(modelStat(str(models[int(number[i])]).split('(')[0],accuracy_score(y_train, y_predTrain),accuracy_score(y_test, y_predTest)))\n",
        "  return model_names"
      ],
      "execution_count": null,
      "outputs": []
    },
    {
      "cell_type": "code",
      "metadata": {
        "id": "yd9bcLbJ0epS"
      },
      "source": [
        "summary_eng = checking_overfitting(X_train_eng,y_train_eng,X_test_eng,y_test_eng)"
      ],
      "execution_count": null,
      "outputs": []
    },
    {
      "cell_type": "code",
      "metadata": {
        "id": "e0L9ALTf1Rrf",
        "outputId": "85fd93bb-0de2-4ee5-fa0f-0fde83f0b8b7",
        "colab": {
          "base_uri": "https://localhost:8080/",
          "height": 126
        }
      },
      "source": [
        "summary_ban = checking_overfitting(X_train_ban,y_train_ban,X_test_ban,y_test_ban)\n",
        "for obj in model_names: \n",
        "    print( obj.name, obj.train, obj.test, sep =',' ) "
      ],
      "execution_count": null,
      "outputs": [
        {
          "output_type": "stream",
          "text": [
            "GaussianNB,0.9935897435897436,0.9794871794871794\n",
            "SVC,0.9955128205128205,0.9897435897435898\n",
            "LogisticRegression,0.9974358974358974,0.9923076923076923\n",
            "GaussianNB,0.7709604882749759,0.7406931964056482\n",
            "SVC,0.7995502730485062,0.7650834403080873\n",
            "LogisticRegression,0.7947317699967876,0.7560975609756098\n"
          ],
          "name": "stdout"
        }
      ]
    },
    {
      "cell_type": "markdown",
      "metadata": {
        "id": "S1IU7p0wMxQy"
      },
      "source": [
        "# Make models for english and bangla texts"
      ]
    },
    {
      "cell_type": "markdown",
      "metadata": {
        "id": "kyA-itIRNrUS"
      },
      "source": [
        "## Logistic Regression for EnglishText"
      ]
    },
    {
      "cell_type": "code",
      "metadata": {
        "id": "4B_qEqr389Dv",
        "outputId": "079bc573-71ab-49b7-aac2-952093552210",
        "colab": {
          "base_uri": "https://localhost:8080/",
          "height": 35
        }
      },
      "source": [
        "classifierEnglish = LogisticRegression(random_state=0)\n",
        "classifierEnglish.fit(X_train_eng,y_train_eng)\n",
        "y_predTrainEng = classifierEnglish.predict(X_train_eng)\n",
        "y_predTestEng = classifierEnglish.predict(X_test_eng)\n",
        "accuracy_score(y_train_eng, y_predTrainEng),accuracy_score(y_test_eng, y_predTestEng) #(0.9974358974358974, 0.9923076923076923) not overfitting"
      ],
      "execution_count": null,
      "outputs": [
        {
          "output_type": "execute_result",
          "data": {
            "text/plain": [
              "(0.9974358974358974, 0.9923076923076923)"
            ]
          },
          "metadata": {
            "tags": []
          },
          "execution_count": 294
        }
      ]
    },
    {
      "cell_type": "markdown",
      "metadata": {
        "id": "RVSpfL_IN6bn"
      },
      "source": [
        "## SVC for BanglaText"
      ]
    },
    {
      "cell_type": "code",
      "metadata": {
        "id": "vsC0yVnXNV_B",
        "outputId": "29548607-6bf7-45cd-c04c-b0bb9c87f213",
        "colab": {
          "base_uri": "https://localhost:8080/",
          "height": 35
        }
      },
      "source": [
        "classifierBangla = SVC(kernel = 'rbf',random_state=0)\n",
        "classifierBangla.fit(X_train_ban,y_train_ban)\n",
        "y_predTrainBan = classifierBangla.predict(X_train_ban)\n",
        "y_predTestBan = classifierBangla.predict(X_test_ban)\n",
        "accuracy_score(y_train_ban, y_predTrainBan),accuracy_score(y_test_ban, y_predTestBan) #(0.7995502730485062, 0.7650834403080873) not overfitting"
      ],
      "execution_count": null,
      "outputs": [
        {
          "output_type": "execute_result",
          "data": {
            "text/plain": [
              "(0.7995502730485062, 0.7650834403080873)"
            ]
          },
          "metadata": {
            "tags": []
          },
          "execution_count": 304
        }
      ]
    },
    {
      "cell_type": "markdown",
      "metadata": {
        "id": "kqkObDJoUZXL"
      },
      "source": [
        "# Confusion Matrics for both  Classifier"
      ]
    },
    {
      "cell_type": "markdown",
      "metadata": {
        "id": "ogqdhZQUYgCd"
      },
      "source": [
        "### English"
      ]
    },
    {
      "cell_type": "code",
      "metadata": {
        "id": "kKFhLn-7UkYn",
        "outputId": "96abde48-01f1-418a-8782-16fd157bbde4",
        "colab": {
          "base_uri": "https://localhost:8080/",
          "height": 388
        }
      },
      "source": [
        "conf_mat = confusion_matrix(y_test_eng, y_predTestEng)\n",
        "fig, ax = plt.subplots(figsize=(8,6))\n",
        "sns.heatmap(conf_mat, annot=True, fmt='d',\n",
        "            xticklabels=df1['label'].unique(), yticklabels=df1['label'].unique())\n",
        "plt.ylabel('Actual')\n",
        "plt.xlabel('Predicted')\n",
        "plt.show()\n",
        "# print(conf_mat)\n",
        "# print(df1['label'].unique())"
      ],
      "execution_count": null,
      "outputs": [
        {
          "output_type": "display_data",
          "data": {
            "image/png": "[encoded data removed]",
            "text/plain": [
              "<Figure size 576x432 with 2 Axes>"
            ]
          },
          "metadata": {
            "tags": [],
            "needs_background": "light"
          }
        }
      ]
    },
    {
      "cell_type": "markdown",
      "metadata": {
        "id": "JyLmkpIcYb2C"
      },
      "source": [
        "### Bangla"
      ]
    },
    {
      "cell_type": "code",
      "metadata": {
        "id": "vxh-RVXiYQeN",
        "outputId": "00c412c7-2ed4-4341-ff04-ff39763688b2",
        "colab": {
          "base_uri": "https://localhost:8080/",
          "height": 388
        }
      },
      "source": [
        "conf_mat = confusion_matrix(y_test_ban, y_predTestBan)\n",
        "fig, ax = plt.subplots(figsize=(8,6))\n",
        "sns.heatmap(conf_mat, annot=True, fmt='d',\n",
        "            xticklabels=df1['label'].unique(), yticklabels=df1['label'].unique())\n",
        "plt.ylabel('Actual')\n",
        "plt.xlabel('Predicted')\n",
        "plt.show()"
      ],
      "execution_count": null,
      "outputs": [
        {
          "output_type": "display_data",
          "data": {
            "image/png": "[encoded data removed]",
            "text/plain": [
              "<Figure size 576x432 with 2 Axes>"
            ]
          },
          "metadata": {
            "tags": [],
            "needs_background": "light"
          }
        }
      ]
    },
    {
      "cell_type": "markdown",
      "metadata": {
        "id": "3dspZIkBOTXX"
      },
      "source": [
        "# Export  Models"
      ]
    },
    {
      "cell_type": "code",
      "metadata": {
        "id": "2W8immVEOKvk"
      },
      "source": [
        "pickle.dump(classifierBangla, open('modelBangla.pkl','wb'))"
      ],
      "execution_count": null,
      "outputs": []
    },
    {
      "cell_type": "code",
      "metadata": {
        "id": "2OkHmS8-PXQB"
      },
      "source": [
        "pickle.dump(classifierEnglish, open('modelEnglish.pkl','wb'))"
      ],
      "execution_count": null,
      "outputs": []
    },
    {
      "cell_type": "markdown",
      "metadata": {
        "id": "oToMQ4CaY2Ic"
      },
      "source": [
        "# Test Accuracy Difference from Imported Models and Notebook models"
      ]
    },
    {
      "cell_type": "code",
      "metadata": {
        "id": "_wK_UEjFSkWC"
      },
      "source": [
        "loaded_model = pickle.load(open('modelEnglish.pkl', 'rb'))\n",
        "y_predTestEng = classifierEnglish.predict(X_test_eng)\n",
        "resultEng = loaded_model.predict(X_test_eng)\n",
        "accuracyModelEng = accuracy_score(y_test_eng, y_predTestEng)\n",
        "accuracyImportedModelEng = accuracy_score(y_test_eng, y_predTestEng)"
      ],
      "execution_count": null,
      "outputs": []
    },
    {
      "cell_type": "code",
      "metadata": {
        "id": "OZl7BKR-Zmj5",
        "outputId": "dec03a6a-1601-4ef4-9ac9-6d8689bdc896",
        "colab": {
          "base_uri": "https://localhost:8080/",
          "height": 35
        }
      },
      "source": [
        "accuracyModelEng,accuracyImportedModelEng"
      ],
      "execution_count": null,
      "outputs": [
        {
          "output_type": "execute_result",
          "data": {
            "text/plain": [
              "(0.9923076923076923, 0.9923076923076923)"
            ]
          },
          "metadata": {
            "tags": []
          },
          "execution_count": 310
        }
      ]
    },
    {
      "cell_type": "code",
      "metadata": {
        "id": "xvTXOd3UZsu2"
      },
      "source": [
        "loaded_model = pickle.load(open('modelBangla.pkl', 'rb'))\n",
        "y_predTestBan = classifierBangla.predict(X_test_ban)\n",
        "resultBan = loaded_model.predict(X_test_ban)\n",
        "accuracyModelBan = accuracy_score(y_test_ban, y_predTestBan)\n",
        "accuracyImportedModelBan = accuracy_score(y_test_ban, y_predTestBan)"
      ],
      "execution_count": null,
      "outputs": []
    },
    {
      "cell_type": "code",
      "metadata": {
        "id": "w3-Fz9ega3dT",
        "outputId": "ad7c1c5a-b8ec-4ed6-9665-afc2ab967cc7",
        "colab": {
          "base_uri": "https://localhost:8080/",
          "height": 35
        }
      },
      "source": [
        "accuracyModelBan,accuracyImportedModelBan"
      ],
      "execution_count": null,
      "outputs": [
        {
          "output_type": "execute_result",
          "data": {
            "text/plain": [
              "(0.7650834403080873, 0.7650834403080873)"
            ]
          },
          "metadata": {
            "tags": []
          },
          "execution_count": 313
        }
      ]
    },
    {
      "cell_type": "code",
      "metadata": {
        "id": "rQK2UTssa5kt"
      },
      "source": [
        ""
      ],
      "execution_count": null,
      "outputs": []
    },
    {
      "cell_type": "markdown",
      "metadata": {
        "id": "INg5RSWCdjnk"
      },
      "source": [
        "# Testing CountVectorizer Similarity of Notebook and Exported One"
      ]
    },
    {
      "cell_type": "code",
      "metadata": {
        "id": "f_2yuekIdxpE"
      },
      "source": [
        "engText = [\"credit\"]\n",
        "cvE = pickle.load(open(\"vectorEng.pickel\", \"rb\"))\n",
        "x_engNotebook = cvEng.transform(engText).toarray()\n",
        "x_engExpo = cvE.transform(engText).toarray()"
      ],
      "execution_count": null,
      "outputs": []
    },
    {
      "cell_type": "code",
      "metadata": {
        "id": "AtTllCERfg6z",
        "outputId": "18a2bb4c-e86d-451d-ff4c-d57edf03bd2c",
        "colab": {
          "base_uri": "https://localhost:8080/",
          "height": 1000
        }
      },
      "source": [
        "x_engNotebook,x_engExpo"
      ],
      "execution_count": null,
      "outputs": [
        {
          "output_type": "execute_result",
          "data": {
            "text/plain": [
              "(array([[0, 0, 0, 0, 0, 0, 0, 0, 0, 0, 0, 0, 0, 0, 0, 0, 0, 0, 0, 0, 0, 0,\n",
              "         0, 0, 0, 0, 0, 0, 0, 0, 0, 0, 0, 0, 0, 0, 0, 0, 0, 0, 0, 0, 0, 0,\n",
              "         0, 0, 0, 0, 0, 0, 0, 0, 0, 0, 0, 0, 0, 0, 0, 0, 0, 0, 0, 0, 0, 0,\n",
              "         0, 0, 0, 0, 0, 0, 0, 0, 0, 0, 0, 0, 0, 0, 0, 0, 0, 0, 0, 0, 0, 0,\n",
              "         0, 0, 0, 0, 0, 0, 0, 0, 0, 0, 0, 0, 0, 0, 0, 0, 0, 0, 0, 0, 0, 0,\n",
              "         0, 0, 0, 0, 0, 0, 0, 0, 0, 0, 0, 0, 0, 0, 0, 0, 0, 0, 0, 0, 0, 0,\n",
              "         0, 0, 0, 0, 0, 0, 0, 0, 0, 0, 0, 1, 0, 0, 0, 0, 0, 0, 0, 0, 0, 0,\n",
              "         0, 0, 0, 0, 0, 0, 0, 0, 0, 0, 0, 0, 0, 0, 0, 0, 0, 0, 0, 0, 0, 0,\n",
              "         0, 0, 0, 0, 0, 0, 0, 0, 0, 0, 0, 0, 0, 0, 0, 0, 0, 0, 0, 0, 0, 0,\n",
              "         0, 0, 0, 0, 0, 0, 0, 0, 0, 0, 0, 0, 0, 0, 0, 0, 0, 0, 0, 0, 0, 0,\n",
              "         0, 0, 0, 0, 0, 0, 0, 0, 0, 0, 0, 0, 0, 0, 0, 0, 0, 0, 0, 0, 0, 0,\n",
              "         0, 0, 0, 0, 0, 0, 0, 0, 0, 0, 0, 0, 0, 0, 0, 0, 0, 0, 0, 0, 0, 0,\n",
              "         0, 0, 0, 0, 0, 0, 0, 0, 0, 0, 0, 0, 0, 0, 0, 0, 0, 0, 0, 0, 0, 0,\n",
              "         0, 0, 0, 0, 0, 0, 0, 0, 0, 0, 0, 0, 0, 0, 0, 0, 0, 0, 0, 0, 0, 0,\n",
              "         0, 0, 0, 0, 0, 0, 0, 0, 0, 0, 0, 0, 0, 0, 0, 0, 0, 0, 0, 0, 0, 0,\n",
              "         0, 0, 0, 0, 0, 0, 0, 0, 0, 0, 0, 0, 0, 0, 0, 0, 0, 0, 0, 0, 0, 0,\n",
              "         0, 0, 0, 0, 0, 0, 0, 0, 0, 0, 0, 0, 0, 0, 0, 0, 0, 0, 0, 0, 0, 0,\n",
              "         0, 0, 0, 0, 0, 0, 0, 0, 0, 0, 0, 0, 0, 0, 0, 0, 0, 0, 0, 0, 0, 0,\n",
              "         0, 0, 0, 0, 0, 0, 0, 0, 0, 0, 0, 0, 0, 0, 0, 0, 0, 0, 0, 0, 0, 0,\n",
              "         0, 0, 0, 0, 0, 0, 0, 0, 0, 0, 0, 0, 0, 0, 0, 0, 0, 0, 0, 0, 0, 0,\n",
              "         0, 0, 0, 0, 0, 0, 0, 0, 0, 0, 0, 0, 0, 0, 0, 0, 0, 0, 0, 0, 0, 0,\n",
              "         0, 0, 0, 0, 0, 0, 0, 0, 0, 0, 0, 0, 0, 0, 0, 0, 0, 0, 0, 0, 0, 0,\n",
              "         0, 0, 0, 0, 0, 0, 0, 0, 0, 0, 0, 0, 0, 0, 0, 0, 0, 0, 0, 0, 0, 0,\n",
              "         0, 0, 0, 0, 0, 0, 0, 0, 0, 0, 0, 0, 0, 0, 0, 0, 0, 0, 0, 0, 0, 0,\n",
              "         0, 0, 0, 0, 0, 0, 0, 0, 0, 0, 0, 0, 0, 0, 0, 0, 0, 0, 0, 0, 0, 0,\n",
              "         0, 0, 0, 0, 0, 0, 0, 0, 0, 0, 0, 0, 0, 0, 0, 0, 0, 0, 0, 0, 0, 0,\n",
              "         0, 0, 0, 0, 0, 0, 0, 0, 0, 0, 0, 0, 0, 0, 0, 0, 0, 0, 0, 0, 0, 0,\n",
              "         0, 0, 0, 0, 0, 0, 0, 0, 0, 0, 0, 0, 0, 0, 0, 0, 0, 0, 0, 0, 0, 0,\n",
              "         0, 0]]),\n",
              " array([[0, 0, 0, 0, 0, 0, 0, 0, 0, 0, 0, 0, 0, 0, 0, 0, 0, 0, 0, 0, 0, 0,\n",
              "         0, 0, 0, 0, 0, 0, 0, 0, 0, 0, 0, 0, 0, 0, 0, 0, 0, 0, 0, 0, 0, 0,\n",
              "         0, 0, 0, 0, 0, 0, 0, 0, 0, 0, 0, 0, 0, 0, 0, 0, 0, 0, 0, 0, 0, 0,\n",
              "         0, 0, 0, 0, 0, 0, 0, 0, 0, 0, 0, 0, 0, 0, 0, 0, 0, 0, 0, 0, 0, 0,\n",
              "         0, 0, 0, 0, 0, 0, 0, 0, 0, 0, 0, 0, 0, 0, 0, 0, 0, 0, 0, 0, 0, 0,\n",
              "         0, 0, 0, 0, 0, 0, 0, 0, 0, 0, 0, 0, 0, 0, 0, 0, 0, 0, 0, 0, 0, 0,\n",
              "         0, 0, 0, 0, 0, 0, 0, 0, 0, 0, 0, 1, 0, 0, 0, 0, 0, 0, 0, 0, 0, 0,\n",
              "         0, 0, 0, 0, 0, 0, 0, 0, 0, 0, 0, 0, 0, 0, 0, 0, 0, 0, 0, 0, 0, 0,\n",
              "         0, 0, 0, 0, 0, 0, 0, 0, 0, 0, 0, 0, 0, 0, 0, 0, 0, 0, 0, 0, 0, 0,\n",
              "         0, 0, 0, 0, 0, 0, 0, 0, 0, 0, 0, 0, 0, 0, 0, 0, 0, 0, 0, 0, 0, 0,\n",
              "         0, 0, 0, 0, 0, 0, 0, 0, 0, 0, 0, 0, 0, 0, 0, 0, 0, 0, 0, 0, 0, 0,\n",
              "         0, 0, 0, 0, 0, 0, 0, 0, 0, 0, 0, 0, 0, 0, 0, 0, 0, 0, 0, 0, 0, 0,\n",
              "         0, 0, 0, 0, 0, 0, 0, 0, 0, 0, 0, 0, 0, 0, 0, 0, 0, 0, 0, 0, 0, 0,\n",
              "         0, 0, 0, 0, 0, 0, 0, 0, 0, 0, 0, 0, 0, 0, 0, 0, 0, 0, 0, 0, 0, 0,\n",
              "         0, 0, 0, 0, 0, 0, 0, 0, 0, 0, 0, 0, 0, 0, 0, 0, 0, 0, 0, 0, 0, 0,\n",
              "         0, 0, 0, 0, 0, 0, 0, 0, 0, 0, 0, 0, 0, 0, 0, 0, 0, 0, 0, 0, 0, 0,\n",
              "         0, 0, 0, 0, 0, 0, 0, 0, 0, 0, 0, 0, 0, 0, 0, 0, 0, 0, 0, 0, 0, 0,\n",
              "         0, 0, 0, 0, 0, 0, 0, 0, 0, 0, 0, 0, 0, 0, 0, 0, 0, 0, 0, 0, 0, 0,\n",
              "         0, 0, 0, 0, 0, 0, 0, 0, 0, 0, 0, 0, 0, 0, 0, 0, 0, 0, 0, 0, 0, 0,\n",
              "         0, 0, 0, 0, 0, 0, 0, 0, 0, 0, 0, 0, 0, 0, 0, 0, 0, 0, 0, 0, 0, 0,\n",
              "         0, 0, 0, 0, 0, 0, 0, 0, 0, 0, 0, 0, 0, 0, 0, 0, 0, 0, 0, 0, 0, 0,\n",
              "         0, 0, 0, 0, 0, 0, 0, 0, 0, 0, 0, 0, 0, 0, 0, 0, 0, 0, 0, 0, 0, 0,\n",
              "         0, 0, 0, 0, 0, 0, 0, 0, 0, 0, 0, 0, 0, 0, 0, 0, 0, 0, 0, 0, 0, 0,\n",
              "         0, 0, 0, 0, 0, 0, 0, 0, 0, 0, 0, 0, 0, 0, 0, 0, 0, 0, 0, 0, 0, 0,\n",
              "         0, 0, 0, 0, 0, 0, 0, 0, 0, 0, 0, 0, 0, 0, 0, 0, 0, 0, 0, 0, 0, 0,\n",
              "         0, 0, 0, 0, 0, 0, 0, 0, 0, 0, 0, 0, 0, 0, 0, 0, 0, 0, 0, 0, 0, 0,\n",
              "         0, 0, 0, 0, 0, 0, 0, 0, 0, 0, 0, 0, 0, 0, 0, 0, 0, 0, 0, 0, 0, 0,\n",
              "         0, 0, 0, 0, 0, 0, 0, 0, 0, 0, 0, 0, 0, 0, 0, 0, 0, 0, 0, 0, 0, 0,\n",
              "         0, 0]]))"
            ]
          },
          "metadata": {
            "tags": []
          },
          "execution_count": 332
        }
      ]
    },
    {
      "cell_type": "code",
      "metadata": {
        "id": "11psVmvBgp1p"
      },
      "source": [
        "banText = [\"ক্রডিট\"]\n",
        "cvB = pickle.load(open(\"vectorBan.pickel\", \"rb\"))\n",
        "x_banNotebook = cvBan.transform(banText).toarray()\n",
        "x_banExpo = cvB.transform(banText).toarray()"
      ],
      "execution_count": null,
      "outputs": []
    },
    {
      "cell_type": "code",
      "metadata": {
        "id": "X3xm4gOMhQOj",
        "outputId": "fbcb80ba-08dd-4843-cca0-2fa383adec8d",
        "colab": {
          "base_uri": "https://localhost:8080/",
          "height": 345
        }
      },
      "source": [
        "x_banNotebook,x_banExpo"
      ],
      "execution_count": null,
      "outputs": [
        {
          "output_type": "execute_result",
          "data": {
            "text/plain": [
              "(array([[0, 0, 0, 0, 0, 0, 0, 0, 0, 0, 0, 0, 0, 0, 0, 0, 0, 0, 0, 0, 0, 0,\n",
              "         0, 0, 0, 0, 0, 0, 0, 0, 0, 0, 0, 0, 0, 0, 0, 0, 0, 0, 0, 0, 0, 0,\n",
              "         0, 0, 0, 0, 0, 0, 0, 0, 0, 0, 0, 0, 0, 0, 0, 0, 0, 0, 0, 0, 0, 0,\n",
              "         0, 0, 0, 0, 0, 0, 0, 0, 0, 0, 0, 0, 0, 0, 0, 0, 0, 0, 0, 0, 0, 0,\n",
              "         0, 0, 0, 0, 0, 0, 0, 0, 0, 0, 0, 0, 0, 0, 0, 0, 0, 0, 0, 0, 0, 0,\n",
              "         0, 0, 0, 0, 0, 0, 0, 0, 0, 0, 0, 0, 0, 0, 0, 0, 0, 0, 0, 0, 0, 0,\n",
              "         0, 0, 0, 0, 0, 0, 1, 0, 0, 0, 0, 0, 0, 0, 0, 0, 0, 0, 0, 0, 0, 0,\n",
              "         0, 0, 0, 0, 0, 0, 0, 0, 0, 0, 0, 0, 0, 0, 0, 0, 0, 0, 0, 0, 0, 0,\n",
              "         0, 0, 0, 0, 0, 0, 0, 0, 0, 0, 0, 0, 0, 0]]),\n",
              " array([[0, 0, 0, 0, 0, 0, 0, 0, 0, 0, 0, 0, 0, 0, 0, 0, 0, 0, 0, 0, 0, 0,\n",
              "         0, 0, 0, 0, 0, 0, 0, 0, 0, 0, 0, 0, 0, 0, 0, 0, 0, 0, 0, 0, 0, 0,\n",
              "         0, 0, 0, 0, 0, 0, 0, 0, 0, 0, 0, 0, 0, 0, 0, 0, 0, 0, 0, 0, 0, 0,\n",
              "         0, 0, 0, 0, 0, 0, 0, 0, 0, 0, 0, 0, 0, 0, 0, 0, 0, 0, 0, 0, 0, 0,\n",
              "         0, 0, 0, 0, 0, 0, 0, 0, 0, 0, 0, 0, 0, 0, 0, 0, 0, 0, 0, 0, 0, 0,\n",
              "         0, 0, 0, 0, 0, 0, 0, 0, 0, 0, 0, 0, 0, 0, 0, 0, 0, 0, 0, 0, 0, 0,\n",
              "         0, 0, 0, 0, 0, 0, 1, 0, 0, 0, 0, 0, 0, 0, 0, 0, 0, 0, 0, 0, 0, 0,\n",
              "         0, 0, 0, 0, 0, 0, 0, 0, 0, 0, 0, 0, 0, 0, 0, 0, 0, 0, 0, 0, 0, 0,\n",
              "         0, 0, 0, 0, 0, 0, 0, 0, 0, 0, 0, 0, 0, 0]]))"
            ]
          },
          "metadata": {
            "tags": []
          },
          "execution_count": 335
        }
      ]
    },
    {
      "cell_type": "code",
      "metadata": {
        "id": "44NRwgbthXOJ"
      },
      "source": [
        ""
      ],
      "execution_count": null,
      "outputs": []
    }
  ]
}