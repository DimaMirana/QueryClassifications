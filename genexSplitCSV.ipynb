{
  "nbformat": 4,
  "nbformat_minor": 0,
  "metadata": {
    "colab": {
      "name": "genexSplitCSV.ipynb",
      "provenance": [],
      "authorship_tag": "ABX9TyOd3FtMY51SQkHQ/+uZZl2f",
      "include_colab_link": true
    },
    "kernelspec": {
      "name": "python3",
      "display_name": "Python 3"
    }
  },
  "cells": [
    {
      "cell_type": "markdown",
      "metadata": {
        "id": "view-in-github",
        "colab_type": "text"
      },
      "source": [
        "<a href=\"https://colab.research.google.com/github/DimaMirana/QueryClassifications/blob/master/genexSplitCSV.ipynb\" target=\"_parent\"><img src=\"https://colab.research.google.com/assets/colab-badge.svg\" alt=\"Open In Colab\"/></a>"
      ]
    },
    {
      "cell_type": "markdown",
      "metadata": {
        "id": "Ivxbh9y1uWKS"
      },
      "source": [
        "# Import Files"
      ]
    },
    {
      "cell_type": "code",
      "metadata": {
        "id": "4_woA_GRqYNO"
      },
      "source": [
        "import pandas as pd\n",
        "import numpy as np"
      ],
      "execution_count": null,
      "outputs": []
    },
    {
      "cell_type": "code",
      "metadata": {
        "id": "Xf-FMFwVr86E"
      },
      "source": [
        "pd.set_option('display.max_colwidth', None)\n",
        "col_Names=[\"sentence\", \"label\"] #adding header"
      ],
      "execution_count": null,
      "outputs": []
    },
    {
      "cell_type": "markdown",
      "metadata": {
        "id": "-ydRITBrubYI"
      },
      "source": [
        "# Read all CSV fies"
      ]
    },
    {
      "cell_type": "code",
      "metadata": {
        "id": "jDtiZWgesR79"
      },
      "source": [
        "df1 = pd.read_csv('annual_fee.csv', encoding = \"UTF-8\",sep='delimeter',header=None,names=col_Names,engine='python')\n",
        "df2 = pd.read_csv('eligibility.csv', encoding = \"UTF-8\",sep='delimeter',header=None,names=col_Names,engine='python')\n",
        "df3 = pd.read_csv('facilities.csv', encoding = \"UTF-8\",sep='delimeter',header=None,names=col_Names,engine='python')\n",
        "df4 = pd.read_csv('interest-rate.csv', encoding = \"UTF-8\",sep='delimeter',header=None,names=col_Names,engine='python')\n",
        "df5 = pd.read_csv('mobile-recharge.csv', encoding = \"UTF-8\",sep='delimeter',header=None,names=col_Names,engine='python')\n",
        "df6 = pd.read_csv('required-documents.csv', encoding = \"UTF-8\",sep='delimeter',header=None,names=col_Names,engine='python')"
      ],
      "execution_count": null,
      "outputs": []
    },
    {
      "cell_type": "markdown",
      "metadata": {
        "id": "pGZL1E2augjg"
      },
      "source": [
        "# Add labels/Intent"
      ]
    },
    {
      "cell_type": "code",
      "metadata": {
        "id": "djF7OfB0sViT"
      },
      "source": [
        "df1.loc[:,'label'] = np.ones(len(df1))*1\n",
        "df2.loc[:,'label'] = np.ones(len(df2))*2\n",
        "df3.loc[:,'label'] = np.ones(len(df3))*3\n",
        "df4.loc[:,'label'] = np.ones(len(df4))*4\n",
        "df5.loc[:,'label'] = np.ones(len(df5))*5\n",
        "df6.loc[:,'label'] = np.ones(len(df6))*6"
      ],
      "execution_count": null,
      "outputs": []
    },
    {
      "cell_type": "markdown",
      "metadata": {
        "id": "RhGgSMlyulrI"
      },
      "source": [
        "# MakeOne Big Dataset"
      ]
    },
    {
      "cell_type": "code",
      "metadata": {
        "id": "FTgcUt5wsZt5"
      },
      "source": [
        "#merge all splited csv files data into one big dataset\n",
        "df =pd.concat([df1,df2,df3,df4,df5,df6], axis=0).reset_index() \n",
        "#shuffeling the dataset\n",
        "df = df.sample(frac = 1)"
      ],
      "execution_count": null,
      "outputs": []
    },
    {
      "cell_type": "code",
      "metadata": {
        "id": "oABe4HbAsfzA",
        "outputId": "11b6fb38-3db9-4db8-9063-ec5061847643",
        "colab": {
          "base_uri": "https://localhost:8080/",
          "height": 35
        }
      },
      "source": [
        "df.shape"
      ],
      "execution_count": null,
      "outputs": [
        {
          "output_type": "execute_result",
          "data": {
            "text/plain": [
              "(5842, 3)"
            ]
          },
          "metadata": {
            "tags": []
          },
          "execution_count": 7
        }
      ]
    },
    {
      "cell_type": "code",
      "metadata": {
        "id": "X2T8ZUZXskG_",
        "outputId": "9b1a2286-d3ff-475d-a50b-2ce9a4a979c5",
        "colab": {
          "base_uri": "https://localhost:8080/",
          "height": 408
        }
      },
      "source": [
        "df.head(12)"
      ],
      "execution_count": null,
      "outputs": [
        {
          "output_type": "execute_result",
          "data": {
            "text/html": [
              "<div>\n",
              "<style scoped>\n",
              "    .dataframe tbody tr th:only-of-type {\n",
              "        vertical-align: middle;\n",
              "    }\n",
              "\n",
              "    .dataframe tbody tr th {\n",
              "        vertical-align: top;\n",
              "    }\n",
              "\n",
              "    .dataframe thead th {\n",
              "        text-align: right;\n",
              "    }\n",
              "</style>\n",
              "<table border=\"1\" class=\"dataframe\">\n",
              "  <thead>\n",
              "    <tr style=\"text-align: right;\">\n",
              "      <th></th>\n",
              "      <th>index</th>\n",
              "      <th>sentence</th>\n",
              "      <th>label</th>\n",
              "    </tr>\n",
              "  </thead>\n",
              "  <tbody>\n",
              "    <tr>\n",
              "      <th>4881</th>\n",
              "      <td>165</td>\n",
              "      <td>What do you have to bring to a credit card?</td>\n",
              "      <td>6.0</td>\n",
              "    </tr>\n",
              "    <tr>\n",
              "      <th>1641</th>\n",
              "      <td>500</td>\n",
              "      <td>মাসিক কত টাকা আয় করলে ক্রেডিট কার্ড নেওয়া যাবে?</td>\n",
              "      <td>2.0</td>\n",
              "    </tr>\n",
              "    <tr>\n",
              "      <th>5438</th>\n",
              "      <td>722</td>\n",
              "      <td>আপনাদের ক্রেদিত কার্ড নিতে কি ডকুমেন্টস লাগবে?</td>\n",
              "      <td>6.0</td>\n",
              "    </tr>\n",
              "    <tr>\n",
              "      <th>1576</th>\n",
              "      <td>435</td>\n",
              "      <td>ক্রেডিট কার্ড পাওার জন্য মাসিক কত টাকা বেতন পাওয়া লাগবে?</td>\n",
              "      <td>2.0</td>\n",
              "    </tr>\n",
              "    <tr>\n",
              "      <th>715</th>\n",
              "      <td>715</td>\n",
              "      <td>সিগনেচার  কার্ডে বিলের হিসাব দেন।</td>\n",
              "      <td>1.0</td>\n",
              "    </tr>\n",
              "    <tr>\n",
              "      <th>476</th>\n",
              "      <td>476</td>\n",
              "      <td>কোন কার্ডের ফিস কত?</td>\n",
              "      <td>1.0</td>\n",
              "    </tr>\n",
              "    <tr>\n",
              "      <th>1908</th>\n",
              "      <td>767</td>\n",
              "      <td>ক্রেডিট কার্ড নিতে হইলে কত বেতন পাওয়া লাগব?</td>\n",
              "      <td>2.0</td>\n",
              "    </tr>\n",
              "    <tr>\n",
              "      <th>1600</th>\n",
              "      <td>459</td>\n",
              "      <td>ক্রেডিট কার্ড পাওার জন্য কত টাকা মাসিক বেতন পাওয়া লাগবে?</td>\n",
              "      <td>2.0</td>\n",
              "    </tr>\n",
              "    <tr>\n",
              "      <th>4748</th>\n",
              "      <td>32</td>\n",
              "      <td>Am I need to submt any papers for crdt card?</td>\n",
              "      <td>6.0</td>\n",
              "    </tr>\n",
              "    <tr>\n",
              "      <th>5737</th>\n",
              "      <td>1021</td>\n",
              "      <td>ক্রেডিট কার্ড নিতে আপনার কি কি দরকারি কাগজপত্র নেয়া হবে?</td>\n",
              "      <td>6.0</td>\n",
              "    </tr>\n",
              "    <tr>\n",
              "      <th>5530</th>\n",
              "      <td>814</td>\n",
              "      <td>কোন জিনিসচান আপনারা ক্রেডিট কার্ড খোলার ক্ষেত্রে?</td>\n",
              "      <td>6.0</td>\n",
              "    </tr>\n",
              "    <tr>\n",
              "      <th>5302</th>\n",
              "      <td>586</td>\n",
              "      <td>ক্রেডিট কার্ড নিব, কোন কাগজ লাগবে?</td>\n",
              "      <td>6.0</td>\n",
              "    </tr>\n",
              "  </tbody>\n",
              "</table>\n",
              "</div>"
            ],
            "text/plain": [
              "      index                                                  sentence  label\n",
              "4881    165               What do you have to bring to a credit card?    6.0\n",
              "1641    500           মাসিক কত টাকা আয় করলে ক্রেডিট কার্ড নেওয়া যাবে?    2.0\n",
              "5438    722            আপনাদের ক্রেদিত কার্ড নিতে কি ডকুমেন্টস লাগবে?    6.0\n",
              "1576    435  ক্রেডিট কার্ড পাওার জন্য মাসিক কত টাকা বেতন পাওয়া লাগবে?    2.0\n",
              "715     715                         সিগনেচার  কার্ডে বিলের হিসাব দেন।    1.0\n",
              "476     476                                       কোন কার্ডের ফিস কত?    1.0\n",
              "1908    767               ক্রেডিট কার্ড নিতে হইলে কত বেতন পাওয়া লাগব?    2.0\n",
              "1600    459  ক্রেডিট কার্ড পাওার জন্য কত টাকা মাসিক বেতন পাওয়া লাগবে?    2.0\n",
              "4748     32              Am I need to submt any papers for crdt card?    6.0\n",
              "5737   1021  ক্রেডিট কার্ড নিতে আপনার কি কি দরকারি কাগজপত্র নেয়া হবে?    6.0\n",
              "5530    814         কোন জিনিসচান আপনারা ক্রেডিট কার্ড খোলার ক্ষেত্রে?    6.0\n",
              "5302    586                        ক্রেডিট কার্ড নিব, কোন কাগজ লাগবে?    6.0"
            ]
          },
          "metadata": {
            "tags": []
          },
          "execution_count": 8
        }
      ]
    },
    {
      "cell_type": "markdown",
      "metadata": {
        "id": "pHay6su0urlK"
      },
      "source": [
        "# Function to Check Query Language"
      ]
    },
    {
      "cell_type": "code",
      "metadata": {
        "id": "7D8rCz7msm4Q"
      },
      "source": [
        "#detect the query language\n",
        "import string\n",
        "def check(w):\n",
        "  english_check = string.printable\n",
        "  return all((True if x in english_check else False for x in w))"
      ],
      "execution_count": null,
      "outputs": []
    },
    {
      "cell_type": "code",
      "metadata": {
        "id": "g6F0VIr8ssMY",
        "outputId": "e5b96410-d92a-46e9-cd0d-8eaeccf17346",
        "colab": {
          "base_uri": "https://localhost:8080/",
          "height": 35
        }
      },
      "source": [
        "check('ভাই, প্লাতিনুম আর সিগ্নাতুর চ্রেদিত কার্ডে এক বছরে বিল কত কাটবে?')"
      ],
      "execution_count": null,
      "outputs": [
        {
          "output_type": "execute_result",
          "data": {
            "text/plain": [
              "False"
            ]
          },
          "metadata": {
            "tags": []
          },
          "execution_count": 10
        }
      ]
    },
    {
      "cell_type": "code",
      "metadata": {
        "id": "0V0oOLqmsv-u",
        "outputId": "c717d4b3-c625-4943-dfa8-c3d3096aa0ff",
        "colab": {
          "base_uri": "https://localhost:8080/",
          "height": 35
        }
      },
      "source": [
        "check('What do you have to bring to a credit card?')"
      ],
      "execution_count": null,
      "outputs": [
        {
          "output_type": "execute_result",
          "data": {
            "text/plain": [
              "True"
            ]
          },
          "metadata": {
            "tags": []
          },
          "execution_count": 11
        }
      ]
    },
    {
      "cell_type": "markdown",
      "metadata": {
        "id": "S4VyXiGGuy9J"
      },
      "source": [
        "# Spliting Array Based on Language"
      ]
    },
    {
      "cell_type": "code",
      "metadata": {
        "id": "TqQ189kbs0mO"
      },
      "source": [
        "eng_sentences = []\n",
        "eng_label = []\n",
        "ban_sentences = []\n",
        "ban_label = []\n",
        "for i in df.index:\n",
        "  k = check(str(df['sentence'][i]))\n",
        "  # print(k)\n",
        "  if(k == True):\n",
        "    eng_sentences.append(str(df['sentence'][i]))\n",
        "    eng_label.append(df['label'][i])\n",
        "  else:\n",
        "    ban_sentences.append(str(df['sentence'][i]))\n",
        "    ban_label.append(df['label'][i])\n",
        "#convert str to np array\n",
        "eng_sentences_final = np.array(eng_sentences) \n",
        "eng_labels_final = np.array(eng_label)\n",
        "ban_sentences_final = np.array(ban_sentences) \n",
        "ban_labels_final = np.array(ban_label)"
      ],
      "execution_count": null,
      "outputs": []
    },
    {
      "cell_type": "code",
      "metadata": {
        "id": "pB8LinLFs-3t",
        "outputId": "82683d0b-3698-4bd3-a3c0-41788e96dbff",
        "colab": {
          "base_uri": "https://localhost:8080/",
          "height": 108
        }
      },
      "source": [
        "ban_sentences_final[0:5],ban_labels_final[0:5]"
      ],
      "execution_count": null,
      "outputs": [
        {
          "output_type": "execute_result",
          "data": {
            "text/plain": [
              "(array(['মাসিক কত টাকা আয় করলে ক্রেডিট কার্ড নেওয়া যাবে?',\n",
              "        'আপনাদের ক্রেদিত কার্ড নিতে কি ডকুমেন্টস লাগবে?',\n",
              "        'ক্রেডিট কার্ড পাওার জন্য মাসিক কত টাকা বেতন পাওয়া লাগবে?',\n",
              "        'সিগনেচার  কার্ডে বিলের হিসাব দেন।', 'কোন কার্ডের ফিস কত?'],\n",
              "       dtype='<U75'), array([2., 6., 2., 1., 1.]))"
            ]
          },
          "metadata": {
            "tags": []
          },
          "execution_count": 13
        }
      ]
    },
    {
      "cell_type": "code",
      "metadata": {
        "id": "4xYQBTmUtEKu",
        "outputId": "4a040f88-ffae-4387-ea37-60ed729a168f",
        "colab": {
          "base_uri": "https://localhost:8080/",
          "height": 126
        }
      },
      "source": [
        "eng_sentences_final[0:5],eng_labels_final[0:5]"
      ],
      "execution_count": null,
      "outputs": [
        {
          "output_type": "execute_result",
          "data": {
            "text/plain": [
              "(array(['What do you have to bring to a credit card?',\n",
              "        'Am I need to submt any papers for crdt card?',\n",
              "        'Credit Card interest charge kto mnthly',\n",
              "        'Quickly recharge my mobile from bank balance',\n",
              "        'What kind of documents will you take for credit card?'],\n",
              "       dtype='<U105'), array([6., 6., 4., 5., 6.]))"
            ]
          },
          "metadata": {
            "tags": []
          },
          "execution_count": 14
        }
      ]
    },
    {
      "cell_type": "markdown",
      "metadata": {
        "id": "q6tLc4dDu7x4"
      },
      "source": [
        "# Make New Datases Based on Query language"
      ]
    },
    {
      "cell_type": "code",
      "metadata": {
        "id": "Z_leyGU6tIrw"
      },
      "source": [
        "english = np.column_stack([eng_sentences_final, eng_labels_final])\n",
        "english\n",
        "pd.DataFrame(english).to_csv(\"englishTexts.csv\",header=None, index=None)"
      ],
      "execution_count": null,
      "outputs": []
    },
    {
      "cell_type": "code",
      "metadata": {
        "id": "fyIcHWV1tTG2"
      },
      "source": [
        "bangla = np.column_stack([ban_sentences_final, ban_labels_final])\n",
        "bangla\n",
        "pd.DataFrame(bangla).to_csv(\"banglaTexts.csv\",header=None, index=None)"
      ],
      "execution_count": null,
      "outputs": []
    },
    {
      "cell_type": "markdown",
      "metadata": {
        "id": "F4zCWr5gvVEJ"
      },
      "source": [
        "# Upload Newly Made CSV files and check"
      ]
    },
    {
      "cell_type": "code",
      "metadata": {
        "id": "Xp7lHYmWtjPp"
      },
      "source": [
        "df1 = pd.read_csv('englishTexts.csv', encoding = \"UTF-8\",sep=',',header=None,names=col_Names,engine='python')\n",
        "df2 = pd.read_csv('banglaTexts.csv', encoding = \"UTF-8\",sep=',',header=None,names=col_Names,engine='python')"
      ],
      "execution_count": null,
      "outputs": []
    },
    {
      "cell_type": "code",
      "metadata": {
        "id": "aCONwG7kt3pS",
        "outputId": "10503e77-3a73-45e3-9379-3242c47e1f02",
        "colab": {
          "base_uri": "https://localhost:8080/",
          "height": 348
        }
      },
      "source": [
        "df1.head(10)"
      ],
      "execution_count": null,
      "outputs": [
        {
          "output_type": "execute_result",
          "data": {
            "text/html": [
              "<div>\n",
              "<style scoped>\n",
              "    .dataframe tbody tr th:only-of-type {\n",
              "        vertical-align: middle;\n",
              "    }\n",
              "\n",
              "    .dataframe tbody tr th {\n",
              "        vertical-align: top;\n",
              "    }\n",
              "\n",
              "    .dataframe thead th {\n",
              "        text-align: right;\n",
              "    }\n",
              "</style>\n",
              "<table border=\"1\" class=\"dataframe\">\n",
              "  <thead>\n",
              "    <tr style=\"text-align: right;\">\n",
              "      <th></th>\n",
              "      <th>sentence</th>\n",
              "      <th>label</th>\n",
              "    </tr>\n",
              "  </thead>\n",
              "  <tbody>\n",
              "    <tr>\n",
              "      <th>0</th>\n",
              "      <td>What do you have to bring to a credit card?</td>\n",
              "      <td>6.0</td>\n",
              "    </tr>\n",
              "    <tr>\n",
              "      <th>1</th>\n",
              "      <td>Am I need to submt any papers for crdt card?</td>\n",
              "      <td>6.0</td>\n",
              "    </tr>\n",
              "    <tr>\n",
              "      <th>2</th>\n",
              "      <td>Credit Card interest charge kto mnthly</td>\n",
              "      <td>4.0</td>\n",
              "    </tr>\n",
              "    <tr>\n",
              "      <th>3</th>\n",
              "      <td>Quickly recharge my mobile from bank balance</td>\n",
              "      <td>5.0</td>\n",
              "    </tr>\n",
              "    <tr>\n",
              "      <th>4</th>\n",
              "      <td>What kind of documents will you take for credit card?</td>\n",
              "      <td>6.0</td>\n",
              "    </tr>\n",
              "    <tr>\n",
              "      <th>5</th>\n",
              "      <td>annual costing for credit card?</td>\n",
              "      <td>1.0</td>\n",
              "    </tr>\n",
              "    <tr>\n",
              "      <th>6</th>\n",
              "      <td>please tell how mch do brac charge fr credit card mnthly</td>\n",
              "      <td>4.0</td>\n",
              "    </tr>\n",
              "    <tr>\n",
              "      <th>7</th>\n",
              "      <td>Gold card, what kind of facilitates?</td>\n",
              "      <td>3.0</td>\n",
              "    </tr>\n",
              "    <tr>\n",
              "      <th>8</th>\n",
              "      <td>amar monthly income 30000, ami credit card nite parbo?</td>\n",
              "      <td>2.0</td>\n",
              "    </tr>\n",
              "    <tr>\n",
              "      <th>9</th>\n",
              "      <td>ami amar phone ta recharge korte chaitesi</td>\n",
              "      <td>5.0</td>\n",
              "    </tr>\n",
              "  </tbody>\n",
              "</table>\n",
              "</div>"
            ],
            "text/plain": [
              "                                                   sentence  label\n",
              "0               What do you have to bring to a credit card?    6.0\n",
              "1              Am I need to submt any papers for crdt card?    6.0\n",
              "2                    Credit Card interest charge kto mnthly    4.0\n",
              "3              Quickly recharge my mobile from bank balance    5.0\n",
              "4     What kind of documents will you take for credit card?    6.0\n",
              "5                           annual costing for credit card?    1.0\n",
              "6  please tell how mch do brac charge fr credit card mnthly    4.0\n",
              "7                      Gold card, what kind of facilitates?    3.0\n",
              "8    amar monthly income 30000, ami credit card nite parbo?    2.0\n",
              "9                 ami amar phone ta recharge korte chaitesi    5.0"
            ]
          },
          "metadata": {
            "tags": []
          },
          "execution_count": 21
        }
      ]
    },
    {
      "cell_type": "code",
      "metadata": {
        "id": "JLVelI1yt6oK",
        "outputId": "413d0319-f4dc-4e10-eb18-2e220ce4e466",
        "colab": {
          "base_uri": "https://localhost:8080/",
          "height": 348
        }
      },
      "source": [
        "df2.head(10)"
      ],
      "execution_count": null,
      "outputs": [
        {
          "output_type": "execute_result",
          "data": {
            "text/html": [
              "<div>\n",
              "<style scoped>\n",
              "    .dataframe tbody tr th:only-of-type {\n",
              "        vertical-align: middle;\n",
              "    }\n",
              "\n",
              "    .dataframe tbody tr th {\n",
              "        vertical-align: top;\n",
              "    }\n",
              "\n",
              "    .dataframe thead th {\n",
              "        text-align: right;\n",
              "    }\n",
              "</style>\n",
              "<table border=\"1\" class=\"dataframe\">\n",
              "  <thead>\n",
              "    <tr style=\"text-align: right;\">\n",
              "      <th></th>\n",
              "      <th>sentence</th>\n",
              "      <th>label</th>\n",
              "    </tr>\n",
              "  </thead>\n",
              "  <tbody>\n",
              "    <tr>\n",
              "      <th>0</th>\n",
              "      <td>মাসিক কত টাকা আয় করলে ক্রেডিট কার্ড নেওয়া যাবে?</td>\n",
              "      <td>2.0</td>\n",
              "    </tr>\n",
              "    <tr>\n",
              "      <th>1</th>\n",
              "      <td>আপনাদের ক্রেদিত কার্ড নিতে কি ডকুমেন্টস লাগবে?</td>\n",
              "      <td>6.0</td>\n",
              "    </tr>\n",
              "    <tr>\n",
              "      <th>2</th>\n",
              "      <td>ক্রেডিট কার্ড পাওার জন্য মাসিক কত টাকা বেতন পাওয়া লাগবে?</td>\n",
              "      <td>2.0</td>\n",
              "    </tr>\n",
              "    <tr>\n",
              "      <th>3</th>\n",
              "      <td>সিগনেচার  কার্ডে বিলের হিসাব দেন।</td>\n",
              "      <td>1.0</td>\n",
              "    </tr>\n",
              "    <tr>\n",
              "      <th>4</th>\n",
              "      <td>কোন কার্ডের ফিস কত?</td>\n",
              "      <td>1.0</td>\n",
              "    </tr>\n",
              "    <tr>\n",
              "      <th>5</th>\n",
              "      <td>ক্রেডিট কার্ড নিতে হইলে কত বেতন পাওয়া লাগব?</td>\n",
              "      <td>2.0</td>\n",
              "    </tr>\n",
              "    <tr>\n",
              "      <th>6</th>\n",
              "      <td>ক্রেডিট কার্ড পাওার জন্য কত টাকা মাসিক বেতন পাওয়া লাগবে?</td>\n",
              "      <td>2.0</td>\n",
              "    </tr>\n",
              "    <tr>\n",
              "      <th>7</th>\n",
              "      <td>ক্রেডিট কার্ড নিতে আপনার কি কি দরকারি কাগজপত্র নেয়া হবে?</td>\n",
              "      <td>6.0</td>\n",
              "    </tr>\n",
              "    <tr>\n",
              "      <th>8</th>\n",
              "      <td>কোন জিনিসচান আপনারা ক্রেডিট কার্ড খোলার ক্ষেত্রে?</td>\n",
              "      <td>6.0</td>\n",
              "    </tr>\n",
              "    <tr>\n",
              "      <th>9</th>\n",
              "      <td>ক্রেডিট কার্ড নিব, কোন কাগজ লাগবে?</td>\n",
              "      <td>6.0</td>\n",
              "    </tr>\n",
              "  </tbody>\n",
              "</table>\n",
              "</div>"
            ],
            "text/plain": [
              "                                                   sentence  label\n",
              "0           মাসিক কত টাকা আয় করলে ক্রেডিট কার্ড নেওয়া যাবে?    2.0\n",
              "1            আপনাদের ক্রেদিত কার্ড নিতে কি ডকুমেন্টস লাগবে?    6.0\n",
              "2  ক্রেডিট কার্ড পাওার জন্য মাসিক কত টাকা বেতন পাওয়া লাগবে?    2.0\n",
              "3                         সিগনেচার  কার্ডে বিলের হিসাব দেন।    1.0\n",
              "4                                       কোন কার্ডের ফিস কত?    1.0\n",
              "5               ক্রেডিট কার্ড নিতে হইলে কত বেতন পাওয়া লাগব?    2.0\n",
              "6  ক্রেডিট কার্ড পাওার জন্য কত টাকা মাসিক বেতন পাওয়া লাগবে?    2.0\n",
              "7  ক্রেডিট কার্ড নিতে আপনার কি কি দরকারি কাগজপত্র নেয়া হবে?    6.0\n",
              "8         কোন জিনিসচান আপনারা ক্রেডিট কার্ড খোলার ক্ষেত্রে?    6.0\n",
              "9                        ক্রেডিট কার্ড নিব, কোন কাগজ লাগবে?    6.0"
            ]
          },
          "metadata": {
            "tags": []
          },
          "execution_count": 22
        }
      ]
    },
    {
      "cell_type": "code",
      "metadata": {
        "id": "PQg1u1T4uOVy"
      },
      "source": [
        ""
      ],
      "execution_count": null,
      "outputs": []
    }
  ]
}